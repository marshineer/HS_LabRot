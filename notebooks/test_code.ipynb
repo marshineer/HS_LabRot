{
 "cells": [
  {
   "cell_type": "code",
   "execution_count": 1,
   "metadata": {},
   "outputs": [],
   "source": [
    "import numpy as np\n",
    "import torch\n"
   ]
  },
  {
   "cell_type": "code",
   "execution_count": 2,
   "metadata": {},
   "outputs": [
    {
     "name": "stdout",
     "output_type": "stream",
     "text": [
      "tensor([[8, 2, 2, 5, 8],\n",
      "        [2, 1, 2, 4, 1],\n",
      "        [3, 2, 7, 2, 8]])\n",
      "tensor([[0, 2, 2, 2, 1],\n",
      "        [1, 2, 1, 1, 2],\n",
      "        [2, 0, 1, 1, 2],\n",
      "        [0, 0, 0, 1, 0],\n",
      "        [1, 0, 0, 1, 1],\n",
      "        [2, 2, 0, 0, 0],\n",
      "        [0, 1, 2, 1, 0],\n",
      "        [0, 0, 0, 0, 2],\n",
      "        [0, 2, 0, 1, 2]])\n",
      "tensor([[1, 1, 1, 0, 2],\n",
      "        [0, 1, 2, 2, 1],\n",
      "        [2, 0, 2, 1, 2],\n",
      "        [1, 0, 1, 1, 2],\n",
      "        [2, 0, 1, 0, 2]])\n"
     ]
    }
   ],
   "source": [
    "n_batch = 5\n",
    "r_weights = torch.ones(3, 9)\n",
    "print(torch.multinomial(r_weights, n_batch, replacement=True))\n",
    "\n",
    "r_weights = torch.ones(9, 3)\n",
    "print(torch.multinomial(r_weights, n_batch, replacement=True))\n",
    "\n",
    "n_ones = 5\n",
    "r_weights = torch.ones(n_batch, 3)\n",
    "print(torch.multinomial(r_weights, n_ones, replacement=True))"
   ]
  },
  {
   "cell_type": "code",
   "execution_count": 3,
   "metadata": {},
   "outputs": [
    {
     "name": "stdout",
     "output_type": "stream",
     "text": [
      "torch.Size([5, 4])\n",
      "tensor([[11, 12, 13, 14],\n",
      "        [17, 18, 19, 20],\n",
      "        [13, 14, 15, 16],\n",
      "        [21, 22, 23, 24],\n",
      "        [19, 20, 21, 22]])\n",
      "tensor([[13, 14, 15, 16],\n",
      "        [19, 20, 21, 22],\n",
      "        [15, 16, 17, 18],\n",
      "        [23, 24, 25, 26],\n",
      "        [21, 22, 23, 24]])\n"
     ]
    }
   ],
   "source": [
    "T_stim = 2\n",
    "dt = 0.5\n",
    "stim_inds = torch.arange(int(T_stim / dt))\n",
    "stim_len = int(T_stim / dt)\n",
    "n_batch = 5\n",
    "stim_wts = torch.ones(n_batch, 12)\n",
    "n_ints = 2\n",
    "stim_times = torch.multinomial(stim_wts, n_ints) + 10\n",
    "# print(torch.einsum('b, bl -> bl', stim_times[:, 0], stim_inds.repeat(n_batch, 1)))\n",
    "print(stim_inds.repeat(n_batch, 1).shape)\n",
    "print(stim_times[:, 0].view(n_batch, -1).repeat(1, stim_len) + torch.arange(stim_len))\n",
    "print(stim_times[:, 0].view(n_batch, -1).repeat(1, stim_len) + torch.arange(stim_len)+2)\n"
   ]
  },
  {
   "cell_type": "code",
   "execution_count": 4,
   "metadata": {},
   "outputs": [
    {
     "name": "stdout",
     "output_type": "stream",
     "text": [
      "tensor([[ 2, 11],\n",
      "        [ 9, 10],\n",
      "        [ 1,  8],\n",
      "        [ 5,  7],\n",
      "        [ 3,  2]])\n",
      "tensor([[0., 1., 1., 1., 0., 1., 0., 1., 1., 1., 1., 1.],\n",
      "        [0., 1., 1., 1., 0., 1., 0., 1., 1., 1., 1., 1.],\n",
      "        [0., 1., 1., 1., 0., 1., 0., 1., 1., 1., 1., 1.],\n",
      "        [0., 1., 1., 1., 0., 1., 0., 1., 1., 1., 1., 1.],\n",
      "        [0., 1., 1., 1., 0., 1., 0., 1., 1., 1., 1., 1.]])\n",
      "tensor([[10.,  1.],\n",
      "        [ 0.,  3.],\n",
      "        [ 5., 11.],\n",
      "        [ 8.,  4.],\n",
      "        [ 9.,  4.]])\n",
      "tensor([[0., 1., 0., 0., 0., 0., 0., 0., 0., 0., 1., 0.],\n",
      "        [1., 0., 0., 1., 0., 0., 0., 0., 0., 0., 0., 0.],\n",
      "        [0., 0., 0., 0., 0., 1., 0., 0., 0., 0., 0., 1.],\n",
      "        [0., 0., 0., 0., 1., 0., 0., 0., 1., 0., 0., 0.],\n",
      "        [0., 0., 0., 0., 1., 0., 0., 0., 0., 1., 0., 0.]])\n"
     ]
    }
   ],
   "source": [
    "n_batch = 5\n",
    "n_ints = 2\n",
    "n_times = 12\n",
    "stim_wts = torch.ones(n_batch, n_times)\n",
    "\n",
    "stim_times = torch.multinomial(stim_wts, n_ints)\n",
    "r_stim = torch.zeros(n_batch, n_times)\n",
    "r_stim[:, stim_times] = 1\n",
    "print(stim_times)\n",
    "print(r_stim)\n",
    "\n",
    "r_stim = torch.zeros(n_batch, n_times)\n",
    "stim_times = torch.zeros(n_batch, n_ints)\n",
    "for b in range(n_batch):\n",
    "    # Define an odor (CS) for each trial\n",
    "    r_inds = torch.multinomial(torch.ones(n_times), n_ints)\n",
    "    stim_times[b, :] = r_inds\n",
    "    r_stim[b, r_inds] = 1\n",
    "print(stim_times)\n",
    "print(r_stim)\n"
   ]
  },
  {
   "cell_type": "code",
   "execution_count": 5,
   "metadata": {},
   "outputs": [
    {
     "name": "stdout",
     "output_type": "stream",
     "text": [
      "torch.Size([5, 61])\n",
      "torch.Size([5, 4])\n",
      "tensor([[17, 18, 19, 20],\n",
      "        [12, 13, 14, 15],\n",
      "        [19, 20, 21, 22],\n",
      "        [15, 16, 17, 18],\n",
      "        [13, 14, 15, 16]])\n",
      "torch.Size([5, 61])\n",
      "torch.Size([5, 61])\n",
      "tensor([[0., 0., 0., 0., 0., 0.],\n",
      "        [0., 0., 0., 0., 0., 0.],\n",
      "        [0., 0., 0., 0., 0., 0.],\n",
      "        [0., 0., 0., 0., 0., 0.],\n",
      "        [0., 0., 0., 0., 0., 0.]])\n",
      "tensor([[[0., 0., 0., 0.],\n",
      "         [0., 0., 0., 0.],\n",
      "         [0., 0., 0., 0.]],\n",
      "\n",
      "        [[0., 0., 0., 0.],\n",
      "         [0., 0., 0., 0.],\n",
      "         [0., 0., 0., 0.]],\n",
      "\n",
      "        [[0., 0., 0., 0.],\n",
      "         [0., 0., 0., 0.],\n",
      "         [0., 0., 0., 0.]]])\n",
      "tensor([[0., 0., 0., 0., 0., 0., 0., 0., 0., 0., 0., 0., 1., 1., 1., 1., 1., 1.,\n",
      "         1., 1., 1., 1., 1., 0., 0., 0., 0., 0., 0., 0., 0., 0., 0., 0., 0., 0.,\n",
      "         0., 0., 0., 0., 0., 0., 0., 0., 0., 0., 0., 0., 0., 0., 0., 0., 0., 0.,\n",
      "         0., 0., 0., 0., 0., 0., 0.],\n",
      "        [0., 0., 0., 0., 0., 0., 0., 0., 0., 0., 0., 0., 1., 1., 1., 1., 1., 1.,\n",
      "         1., 1., 1., 1., 1., 0., 0., 0., 0., 0., 0., 0., 0., 0., 0., 0., 0., 0.,\n",
      "         0., 0., 0., 0., 0., 0., 0., 0., 0., 0., 0., 0., 0., 0., 0., 0., 0., 0.,\n",
      "         0., 0., 0., 0., 0., 0., 0.],\n",
      "        [0., 0., 0., 0., 0., 0., 0., 0., 0., 0., 0., 0., 1., 1., 1., 1., 1., 1.,\n",
      "         1., 1., 1., 1., 1., 0., 0., 0., 0., 0., 0., 0., 0., 0., 0., 0., 0., 0.,\n",
      "         0., 0., 0., 0., 0., 0., 0., 0., 0., 0., 0., 0., 0., 0., 0., 0., 0., 0.,\n",
      "         0., 0., 0., 0., 0., 0., 0.],\n",
      "        [0., 0., 0., 0., 0., 0., 0., 0., 0., 0., 0., 0., 1., 1., 1., 1., 1., 1.,\n",
      "         1., 1., 1., 1., 1., 0., 0., 0., 0., 0., 0., 0., 0., 0., 0., 0., 0., 0.,\n",
      "         0., 0., 0., 0., 0., 0., 0., 0., 0., 0., 0., 0., 0., 0., 0., 0., 0., 0.,\n",
      "         0., 0., 0., 0., 0., 0., 0.],\n",
      "        [0., 0., 0., 0., 0., 0., 0., 0., 0., 0., 0., 0., 1., 1., 1., 1., 1., 1.,\n",
      "         1., 1., 1., 1., 1., 0., 0., 0., 0., 0., 0., 0., 0., 0., 0., 0., 0., 0.,\n",
      "         0., 0., 0., 0., 0., 0., 0., 0., 0., 0., 0., 0., 0., 0., 0., 0., 0., 0.,\n",
      "         0., 0., 0., 0., 0., 0., 0.]])\n"
     ]
    }
   ],
   "source": [
    "T_int = 30\n",
    "T_stim = 2\n",
    "time_int = torch.arange(0, T_int + dt/10, dt)\n",
    "dt = 0.5\n",
    "stim_inds = torch.arange(int(T_stim / dt))\n",
    "stim_len = int(T_stim / dt)\n",
    "n_batch = 5\n",
    "stim_wts = torch.ones(n_batch, 12)\n",
    "n_ints = 2\n",
    "stim_times = torch.multinomial(stim_wts, n_ints) + 10\n",
    "time_CS = torch.zeros(n_batch, time_int.shape[0])\n",
    "print(time_CS.shape)\n",
    "# print(torch.einsum('b, bl -> bl', stim_times[:, 0], stim_inds.repeat(n_batch, 1)))\n",
    "# print(stim_inds.repeat(n_batch, 1).shape)\n",
    "stim_inds = stim_times[:, 0].view(n_batch, -1).repeat(1, stim_len) + torch.arange(stim_len)\n",
    "print(stim_inds.shape)\n",
    "print(stim_inds)\n",
    "# print(stim_times[:, 0].view(n_batch, -1).repeat(1, stim_len) + torch.arange(stim_len))\n",
    "# print(stim_times[:, 0].view(n_batch, -1).repeat(1, stim_len) + torch.arange(stim_len)+2)\n",
    "print(time_CS.shape)\n",
    "# twoD_inds = torch.tensor([[torch.arange(time_CS.shape[0])], [stim_inds]])\n",
    "# print(twoD_inds)\n",
    "print(time_CS.shape)\n",
    "print(time_CS[:, torch.tensor([3, 5, 16, 24, 34, 40])])\n",
    "pos_inds = torch.tensor([1, 3, 4])\n",
    "pos_inds = torch.arange(3) + 1\n",
    "print(time_CS[:3, stim_inds[:3, :]])\n",
    "# print(time_CS[pos_inds, stim_inds[pos_inds, :]])\n",
    "time_CS[:, stim_inds] = 1\n",
    "print(time_CS)\n"
   ]
  },
  {
   "cell_type": "code",
   "execution_count": 6,
   "metadata": {},
   "outputs": [
    {
     "name": "stdout",
     "output_type": "stream",
     "text": [
      "tensor([1, 0, 0, 1, 1, 0, 1])\n",
      "tensor([[1, 0],\n",
      "        [0, 0],\n",
      "        [0, 0],\n",
      "        [0, 1],\n",
      "        [1, 0],\n",
      "        [0, 0],\n",
      "        [1, 0]])\n",
      "tensor([[0., 0., 0., 0., 0., 0., 0., 0., 0., 0., 0., 0., 0., 0., 0., 0., 0., 0.,\n",
      "         1., 1., 1., 1., 0., 0., 0., 0., 0., 0., 0., 0., 0., 0., 0., 0., 0., 0.,\n",
      "         0., 0., 0., 0., 0.],\n",
      "        [0., 0., 0., 0., 0., 0., 0., 0., 0., 0., 0., 0., 0., 0., 0., 0., 0., 0.,\n",
      "         0., 0., 0., 0., 0., 0., 0., 0., 0., 0., 0., 0., 0., 0., 0., 0., 0., 0.,\n",
      "         0., 0., 0., 0., 0.]])\n"
     ]
    }
   ],
   "source": [
    "T_int = 20\n",
    "T_stim = 2\n",
    "dt = 0.5\n",
    "time_int = torch.arange(0, T_int + dt/10, dt)\n",
    "n_batch = 7\n",
    "stim_len = int(T_stim / dt)\n",
    "\n",
    "n_KC = 10\n",
    "n_ones = int(n_KC * 0.5)\n",
    "KC_wts = torch.ones(n_batch, n_KC)\n",
    "r_KC_inds = torch.multinomial(KC_wts, n_ones)\n",
    "r_KC = torch.zeros(n_batch, n_KC)\n",
    "\n",
    "n_ext = 2\n",
    "ext_wts = torch.ones(n_batch, n_ext)\n",
    "cs_trials = torch.multinomial(torch.ones(2), n_batch, replacement=True)\n",
    "print(cs_trials)\n",
    "r_ext = torch.multinomial(ext_wts, n_ext)\n",
    "r_ext[cs_trials == 0] = 0\n",
    "print(r_ext)\n",
    "\n",
    "for b in range(n_batch):\n",
    "    r_KC[b, r_KC_inds[b, :]] = 1\n",
    "# print(r_KC)\n",
    "time_CS = torch.zeros(n_batch, time_int.shape[0])\n",
    "time_US = torch.zeros_like(time_CS)\n",
    "\n",
    "stim_wts = torch.ones(n_batch, 12)\n",
    "n_ints = 2\n",
    "stim_times = torch.multinomial(stim_wts, n_ints, replacement=True) + 10\n",
    "# stim_times = torch.multinomial(torch.ones(n_batch), 12, replacement=True) + 10\n",
    "# print(stim_times)\n",
    "time_CS = torch.zeros(n_batch, time_int.shape[0])\n",
    "for b in range(n_batch):\n",
    "    stim_inds = stim_times[b, 0] + torch.arange(stim_len)\n",
    "    time_CS[b, stim_inds] = 1\n",
    "    stim_inds = stim_times[b, 0] + torch.arange(stim_len) + stim_len\n",
    "    time_US[b, stim_inds] = 1\n",
    "# print(time_CS)\n",
    "# print(time_US)\n",
    "# print(r_KC.shape)\n",
    "# print(time_CS.shape)\n",
    "# print(time_CS.repeat(n_KC, 1, 1).shape)\n",
    "r_KCt = torch.einsum('bm, mbt -> bmt', r_KC, time_CS.repeat(n_KC, 1, 1))\n",
    "# print(r_KCt.shape)\n",
    "# print(r_KCt[0])\n",
    "\n",
    "r_extt = torch.einsum('bm, mbt -> bmt', r_ext, time_US.repeat(n_ext, 1, 1))\n",
    "print(r_extt[0])\n"
   ]
  },
  {
   "cell_type": "code",
   "execution_count": 7,
   "metadata": {},
   "outputs": [
    {
     "name": "stdout",
     "output_type": "stream",
     "text": [
      "tensor([[ 1.,  2.,  3.,  4.],\n",
      "        [ 5.,  6.,  7.,  8.],\n",
      "        [ 9., 10., 11., 12.]])\n",
      "[tensor([[0.4306, 0.3552, 0.7308, 0.2932],\n",
      "        [0.1756, 0.0096, 0.1338, 0.8588],\n",
      "        [0.9297, 0.6289, 0.0091, 0.2579],\n",
      "        [0.0057, 0.1262, 0.7155, 0.6931]]), tensor([[0.4301, 0.9561, 0.7288, 0.8604],\n",
      "        [0.9730, 0.1772, 0.2492, 0.3134],\n",
      "        [0.4161, 0.0846, 0.5165, 0.7254],\n",
      "        [0.0722, 0.6971, 0.4050, 0.4315]]), tensor([[0.8838, 0.0145, 0.4630, 0.4911],\n",
      "        [0.6043, 0.2485, 0.0448, 0.0069],\n",
      "        [0.9939, 0.2855, 0.3718, 0.2693],\n",
      "        [0.5466, 0.7837, 0.9697, 0.3258]]), tensor([[0.7507, 0.9585, 0.0553, 0.2755],\n",
      "        [0.6489, 0.6341, 0.8333, 0.1454],\n",
      "        [0.9052, 0.5941, 0.2755, 0.4124],\n",
      "        [0.2473, 0.0685, 0.7587, 0.0490]]), tensor([[0.9054, 0.3725, 0.0033, 0.5573],\n",
      "        [0.4726, 0.3776, 0.6204, 0.1559],\n",
      "        [0.3783, 0.6802, 0.8591, 0.9252],\n",
      "        [0.5386, 0.7868, 0.7770, 0.1042]])]\n",
      "torch.Size([5, 4, 4])\n"
     ]
    }
   ],
   "source": [
    "py_list = [[1.,2.,3.,4.],[5.,6.,7.,8.],[9.,10.,11.,12.]]\n",
    "pt_tensor_from_list = torch.FloatTensor(py_list)\n",
    "print(pt_tensor_from_list)\n",
    "\n",
    "iters = 5\n",
    "my_ls = []\n",
    "for i in range(iters):\n",
    "    A = torch.rand(16).view(4, -1)\n",
    "#     my_ls += A\n",
    "    my_ls.append(A)\n",
    "#     my_ls.append(A.numpy())\n",
    "#     A = np.random.rand(4, 4)\n",
    "#     my_ls.append(A)\n",
    "    \n",
    "print(my_ls)\n",
    "# print(np.asarray(my_ls).shape)\n",
    "# print(np.asarray(my_ls))\n",
    "print(torch.stack(my_ls).shape)\n"
   ]
  },
  {
   "cell_type": "code",
   "execution_count": 8,
   "metadata": {},
   "outputs": [],
   "source": [
    "omit_inds = torch.rand(9)>0.5\n",
    "p_omit_CS = torch.rand(9)>0.5\n",
    "p_omit_US = torch.rand(9)<0.5\n",
    "omit_CS_inds = torch.logical_and(omit_inds, p_omit_CS)\n",
    "omit_US_inds = torch.logical_and(omit_inds, p_omit_US)\n"
   ]
  },
  {
   "cell_type": "code",
   "execution_count": 9,
   "metadata": {},
   "outputs": [
    {
     "name": "stdout",
     "output_type": "stream",
     "text": [
      "1\n",
      "0\n",
      "tensor([86.0667])\n",
      "4\n",
      "tensor([[3, 2, 2, 1, 0, 0],\n",
      "        [2, 3, 1, 1, 1, 1],\n",
      "        [1, 2, 2, 1, 2, 1]])\n"
     ]
    }
   ],
   "source": [
    "print(1 % 2)\n",
    "print(2 % 2)\n",
    "print(-torch.log(torch.rand(1)) / (2/200))\n",
    "list1 = [[], [], [], []]\n",
    "print(len(list1))\n",
    "print(torch.multinomial(torch.ones(3, 4), 6, replacement=True))\n"
   ]
  },
  {
   "cell_type": "code",
   "execution_count": 10,
   "metadata": {},
   "outputs": [
    {
     "name": "stdout",
     "output_type": "stream",
     "text": [
      "tensor([81.1770, 35.9734, 47.1435, 19.7390])\n",
      "tensor([ 97.0150, 617.0800,  47.8267, 156.4510])\n",
      "tensor([128.6273, 729.5829,  70.7547, 294.7000])\n",
      "tensor([130.3547, 831.8027, 236.7134, 443.3034])\n",
      "tensor([168.8044, 873.5555, 317.3083, 639.4623])\n",
      "tensor([228.3436, 945.6755, 405.1509, 807.6152])\n",
      "[tensor([162,  71,  94,  39], dtype=torch.int32), tensor([ 194, 1234,   95,  312], dtype=torch.int32), tensor([ 257, 1459,  141,  589], dtype=torch.int32), tensor([ 260, 1663,  473,  886], dtype=torch.int32), tensor([ 337, 1747,  634, 1278], dtype=torch.int32)]\n",
      "\n",
      "tensor([ 8.3644, 12.3815, 95.9616, 78.1212])\n",
      "tensor([ 26.0338, 132.0265, 117.1223, 171.1155])\n",
      "tensor([130.2218, 149.7502, 244.5762, 362.4419])\n",
      "tensor([179.6645, 278.7241, 429.0509, 443.2623])\n",
      "tensor([281.8581, 330.0622, 587.9724, 456.9820])\n",
      "[tensor([ 16,  24, 191, 156], dtype=torch.int32), tensor([ 52, 264, 234, 342], dtype=torch.int32), tensor([260, 299, 489, 724], dtype=torch.int32), tensor([359, 557, 858, 886], dtype=torch.int32)]\n",
      "\n",
      "tensor([[[166., 188., 121.,  39., 179.,  23.,  92., 167.,  69., 158.],\n",
      "         [152.,  74., 175.,  78.,  86., 181.,  37.,  94.,  67., 140.]],\n",
      "\n",
      "        [[185., 160.,  96.,  74., 176., 118., 173.,  75., 171., 134.],\n",
      "         [132.,  97.,  78.,  46.,  21., 106., 177., 158., 183., 185.]],\n",
      "\n",
      "        [[115., 183., 126.,  38., 121., 184.,  93., 141., 100., 193.],\n",
      "         [ 75.,  43.,  68., 172., 136., 175.,  36., 171., 114.,   7.]],\n",
      "\n",
      "        [[122., 187.,   8.,  84., 172.,  82.,  92.,  75., 137.,  60.],\n",
      "         [181., 193.,  60., 175., 188., 172.,   2., 124., 161.,   5.]]])\n",
      "5\n",
      "torch.Size([4])\n",
      "tensor(162, dtype=torch.int32)\n",
      "tensor(71, dtype=torch.int32)\n",
      "tensor(94, dtype=torch.int32)\n",
      "tensor(39, dtype=torch.int32)\n",
      "\n",
      "tensor(16, dtype=torch.int32)\n",
      "tensor(24, dtype=torch.int32)\n",
      "tensor(191, dtype=torch.int32)\n",
      "tensor(156, dtype=torch.int32)\n",
      "\n",
      "tensor(194, dtype=torch.int32)\n",
      "tensor(95, dtype=torch.int32)\n",
      "tensor(312, dtype=torch.int32)\n",
      "\n",
      "tensor(52, dtype=torch.int32)\n",
      "tensor(264, dtype=torch.int32)\n",
      "tensor(234, dtype=torch.int32)\n",
      "tensor(342, dtype=torch.int32)\n",
      "\n",
      "tensor(257, dtype=torch.int32)\n",
      "tensor(141, dtype=torch.int32)\n",
      "\n",
      "tensor(260, dtype=torch.int32)\n",
      "tensor(299, dtype=torch.int32)\n",
      "\n",
      "tensor(260, dtype=torch.int32)\n",
      "\n",
      "tensor(359, dtype=torch.int32)\n",
      "\n"
     ]
    }
   ],
   "source": [
    "T_int = 200\n",
    "n_batch = 4\n",
    "n_odors = 2\n",
    "n_KC = 200\n",
    "n_ones = int(0.05 * n_KC)\n",
    "stim_rate = 2 / T_int\n",
    "# Define the interspike intervals and odor patterns for two CS+ and two CS- stimuli\n",
    "# stim_times = [CS+ list, CS2+ list, CS- list, CS- list]\n",
    "stim_times = [[] for i in range(n_odors)]\n",
    "# Initialize an array to store odors for each batch\n",
    "CS_inds = torch.zeros(n_batch, n_odors, n_ones)\n",
    "for i in range(n_odors):\n",
    "    # Define odors\n",
    "    CS_inds[:, i, :] = torch.multinomial(torch.ones(n_batch, n_KC), n_ones)\n",
    "\n",
    "    # Calculate stimulus presentation times for each odor\n",
    "    last_time = torch.zeros(n_batch)\n",
    "    while True:\n",
    "        stim_isi = -torch.log(torch.rand(n_batch)) / stim_rate\n",
    "        next_time = last_time + stim_isi\n",
    "        print(next_time)\n",
    "        if torch.min(next_time) < T_int:\n",
    "            # Stimulus times are indices (not times)\n",
    "            stim_times[i].append((next_time / dt).int())\n",
    "            last_time += stim_isi\n",
    "        else:\n",
    "            break\n",
    "    print(stim_times[i])\n",
    "    print('')\n",
    "print(CS_inds)\n",
    "\n",
    "print(len(stim_times[0]))\n",
    "print(stim_times[0][0].shape)\n",
    "for b in range(n_batch):\n",
    "    for n in range(n_odors):\n",
    "        for t in stim_times[n][b]:\n",
    "            if t < 400:\n",
    "                print(t)\n",
    "        print('')"
   ]
  },
  {
   "cell_type": "code",
   "execution_count": 11,
   "metadata": {},
   "outputs": [
    {
     "name": "stdout",
     "output_type": "stream",
     "text": [
      "It worked\n",
      "printing string: this\n",
      "It also worked\n",
      "printing string: this\n",
      "It also worked\n",
      "printing string: \n"
     ]
    }
   ],
   "source": [
    "def my_test1(g, **kwargs):\n",
    "    # call my_test2\n",
    "    my_test2(**kwargs)\n",
    "#     print('printing string: {}'.format(string))\n",
    "    print('printing string: {}'.format(kwargs['string']))\n",
    "    \n",
    "def my_test2(nps=False, **kwargs):\n",
    "    if nps:\n",
    "        print('It worked')\n",
    "    else:\n",
    "        print('It also worked')\n",
    "#     print('printing string: {}'.format(kwargs['string']))\n",
    "\n",
    "my_test1(3, string='this', nps=True)\n",
    "my_test1(3, string='this')\n",
    "my_test1(3, string='')\n"
   ]
  },
  {
   "cell_type": "code",
   "execution_count": 12,
   "metadata": {},
   "outputs": [
    {
     "name": "stdout",
     "output_type": "stream",
     "text": [
      "104.56278157234192\n"
     ]
    }
   ],
   "source": [
    "from time import time\n",
    "\n",
    "start_time = time()\n",
    "n_odors = 4\n",
    "n_batch = 30\n",
    "n_epoch = 5000\n",
    "dt = 0.5\n",
    "T_int = 200\n",
    "T_stim = 2\n",
    "stim_rate = 2 / T_int\n",
    "\n",
    "# Initialize stimulus presentation times array\n",
    "stim_times = [0] * n_epoch\n",
    "\n",
    "# Generate a list of stimulus presentation times for each trial\n",
    "for e in range(n_epoch):\n",
    "    batch_times = [0] * n_batch\n",
    "    for b in range(n_batch):\n",
    "        odor_times = [0] * n_odors\n",
    "        for i in range(n_odors):\n",
    "            trial_times = []\n",
    "            last_time = 0\n",
    "            while True:\n",
    "                stim_isi = -torch.log(torch.rand(1)) / stim_rate\n",
    "                next_time = last_time + stim_isi\n",
    "                if next_time < (T_int - 2 * T_stim):\n",
    "                    # Stimulus times are indices (not times)\n",
    "                    trial_times.append((next_time / dt).int())\n",
    "                    last_time += stim_isi\n",
    "                # Ensure at least one presentation of each stimuli\n",
    "                elif last_time == 0:\n",
    "                    continue\n",
    "                else:\n",
    "                    break\n",
    "            odor_times[i] = trial_times\n",
    "        batch_times[b] = odor_times\n",
    "    stim_times[e] = batch_times\n",
    "\n",
    "print(time() - start_time)\n"
   ]
  },
  {
   "cell_type": "code",
   "execution_count": 13,
   "metadata": {},
   "outputs": [
    {
     "name": "stdout",
     "output_type": "stream",
     "text": [
      "tensor([5])\n",
      "tensor([1, 0])\n",
      "[None]\n",
      "tensor([[1, 0],\n",
      "        [1, 0],\n",
      "        [1, 0],\n",
      "        [1, 0],\n",
      "        [1, 0]])\n",
      "None\n",
      "4\n",
      "None\n",
      "torch.Size([4, 2])\n"
     ]
    }
   ],
   "source": [
    "print(torch.randint(10, (1,)))\n",
    "print(torch.tensor([1, 0]))\n",
    "print([None])\n",
    "print(torch.tensor([1, 0]).repeat(5, 1))\n",
    "lst = [None, 4, None]\n",
    "for i in range(len(lst)):\n",
    "    print(lst[i])\n",
    "odor_inds = torch.multinomial(torch.ones(4, 10), 2)\n",
    "print(odor_inds.shape)\n"
   ]
  },
  {
   "cell_type": "code",
   "execution_count": 14,
   "metadata": {},
   "outputs": [
    {
     "name": "stdout",
     "output_type": "stream",
     "text": [
      "tensor([[0., 1., 0., 0., 0., 0., 1., 0.],\n",
      "        [0., 0., 1., 0., 0., 1., 0., 0.],\n",
      "        [1., 1., 0., 0., 0., 0., 0., 0.],\n",
      "        [1., 0., 1., 0., 0., 0., 0., 0.],\n",
      "        [1., 0., 0., 0., 0., 1., 0., 0.],\n",
      "        [1., 0., 0., 0., 1., 0., 0., 0.]])\n",
      "tensor([[0., 0., 0., 0., 0., 1., 1., 0.],\n",
      "        [0., 0., 0., 0., 1., 0., 0., 1.],\n",
      "        [0., 0., 0., 1., 0., 0., 0., 1.],\n",
      "        [0., 0., 0., 1., 0., 1., 0., 0.],\n",
      "        [0., 0., 0., 1., 0., 0., 1., 0.],\n",
      "        [1., 0., 0., 0., 0., 0., 1., 0.]])\n",
      "tensor(2.)\n",
      "tensor([7, 6, 3, 4, 0, 2, 5, 1])\n",
      "<class 'torch.Tensor'>\n"
     ]
    }
   ],
   "source": [
    "r_kc = torch.zeros(6, 8)\n",
    "r_kc2 = torch.zeros_like(r_kc)\n",
    "kc_inds = torch.multinomial(torch.ones_like(r_kc), 2)\n",
    "new_inds = torch.multinomial(torch.ones_like(r_kc), r_kc.shape[1])\n",
    "for i in range(r_kc.shape[0]):\n",
    "    kc_inds = torch.multinomial(torch.ones(r_kc.shape[1]), 2)\n",
    "    r_kc[i, kc_inds] = 1\n",
    "    new_inds = torch.multinomial(torch.ones(r_kc.shape[1]), r_kc.shape[1])\n",
    "    r_kc2[i, :] = r_kc[i, new_inds]\n",
    "print(r_kc)\n",
    "print(r_kc2)\n",
    "print(r_kc[1, :].sum())\n",
    "new_odor = torch.multinomial(torch.ones(r_kc.shape[1]), r_kc.shape[1])\n",
    "print(new_odor)\n",
    "print(type(sum(r_kc[1, :])))\n"
   ]
  },
  {
   "cell_type": "code",
   "execution_count": 15,
   "metadata": {},
   "outputs": [
    {
     "name": "stdout",
     "output_type": "stream",
     "text": [
      "torch.Size([1, 4, 4, 10])\n",
      "torch.Size([1, 4, 4, 10])\n",
      "torch.Size([1, 4, 4, 10])\n",
      "torch.Size([1, 4, 4])\n"
     ]
    }
   ],
   "source": [
    "# A = torch.rand(4, 6)\n",
    "# B = torch.rand(4, 6)\n",
    "# C = torch.stack((A, B), dim=0)\n",
    "# print(C.shape)\n",
    "all_Wts = []\n",
    "for tr in range(3):\n",
    "    Wts = []\n",
    "    wts = []\n",
    "    for i in range(2):\n",
    "        Wts_int = []\n",
    "        wts_int = []\n",
    "        for i in range(5):\n",
    "            Wts_int.append(torch.rand(1, 4, 4))\n",
    "            wts_int.append(torch.rand(1, 4, 4))\n",
    "        Wts += Wts_int\n",
    "        wts += wts_int\n",
    "\n",
    "    Wts_trial = torch.stack(Wts, dim=-1).detach()\n",
    "    print(Wts_trial.shape)\n",
    "    all_Wts.append(Wts_trial)\n",
    "\n",
    "print(all_Wts[-1][:, :, :, -1].shape)\n"
   ]
  },
  {
   "cell_type": "code",
   "execution_count": 16,
   "metadata": {},
   "outputs": [
    {
     "name": "stdout",
     "output_type": "stream",
     "text": [
      "[tensor([0., 0., 0., 0., 0., 0., 0., 0., 0., 0., 0., 0., 0., 0., 0.])]\n",
      "[tensor([0.0000, 1.0000, 2.0000, 3.0000, 4.0000, 0.0000, 0.5000, 1.0000, 1.5000,\n",
      "        2.0000, 0.0000, 1.0000, 2.0000, 3.0000, 4.0000]), tensor([0., 0., 0., 0., 0., 0., 0., 0., 0., 0., 0., 0., 0., 0., 0.])]\n"
     ]
    }
   ],
   "source": [
    "# Initialize list\n",
    "time_CS = []\n",
    "time_US = []\n",
    "\n",
    "# Run trials\n",
    "time1 = torch.arange(5) / 1.\n",
    "time2 = torch.arange(5) / 2.\n",
    "time3 = torch.arange(5) / 4.\n",
    "stim_ls1 = [[time1], time3]\n",
    "# stim_ls2 = [[time1, time2], time3]\n",
    "stim_ls2 = [[time2], time3]\n",
    "stim_ls3 = [[time1], time3]\n",
    "\n",
    "# Store trial info\n",
    "time_CS.append(stim_ls1[0])\n",
    "time_CS.append(stim_ls2[0])\n",
    "time_CS.append(stim_ls3[0])\n",
    "time_US.append(stim_ls1[1])\n",
    "time_US.append(stim_ls2[1])\n",
    "time_US.append(stim_ls3[1])\n",
    "\n",
    "max_len_CS = 2\n",
    "max_len_US = 1\n",
    "n_int = len(time_CS)\n",
    "t_len = time_CS[0][0].shape[0]\n",
    "\n",
    "# # Stack into array\n",
    "# US_store = torch.cat(time_US)\n",
    "# # print(US_store)\n",
    "# if max_len_CS == 1:\n",
    "#     trial_CSs = torch.cat(time_CS)\n",
    "# else:\n",
    "#     trial_CSs = []\n",
    "#     t_len = time_CS[0][0].shape[0]\n",
    "#     for i in range(max_len_CS):\n",
    "#         time = torch.zeros(t_len * n_int)\n",
    "#         for j in range(n_int):\n",
    "#             try:\n",
    "#                 time[j*t_len:(j+1)*t_len] = time_CS[j][i]\n",
    "#             except IndexError:\n",
    "#                 pass\n",
    "#         trial_CSs.append(time)\n",
    "        \n",
    "# if max_len_US == 1:\n",
    "#     trial_USs = torch.cat(time_US)\n",
    "# else:\n",
    "#     trial_USs = []\n",
    "#     for i in range(len(time_US)):\n",
    "#         time = time_US[i][0]\n",
    "#         for j in range(1, 2):\n",
    "#             try:\n",
    "#                 time = torch.cat((time, time_US[i][j]))\n",
    "#             except IndexError:\n",
    "#                 time = torch.cat((time, torch.zeros_like(time_US[i][0])))\n",
    "#         trial_USs.append(time)\n",
    "    \n",
    "trial_CSs = []\n",
    "for i in range(max_len_CS):\n",
    "    time = torch.zeros(t_len * n_int)\n",
    "    for j in range(n_int):\n",
    "        try:\n",
    "            time[j*t_len:(j+1)*t_len] = time_CS[j][i]\n",
    "        except IndexError:\n",
    "            pass\n",
    "    trial_CSs.append(time)\n",
    "trial_USs = []\n",
    "for i in range(max_len_US):\n",
    "    time = torch.zeros(t_len * n_int)\n",
    "    for j in range(n_int):\n",
    "        try:\n",
    "            time[j*t_len:(j+1)*t_len] = time_US[j][i]\n",
    "        except IndexError:\n",
    "            pass\n",
    "    trial_USs.append(time)\n",
    "    \n",
    "print(trial_USs)\n",
    "print(trial_CSs)\n"
   ]
  },
  {
   "cell_type": "code",
   "execution_count": 17,
   "metadata": {},
   "outputs": [
    {
     "name": "stdout",
     "output_type": "stream",
     "text": [
      "tensor([2, 3, 5])\n"
     ]
    }
   ],
   "source": [
    "A = torch.tensor([0, 0, 1, 1, 0, 1, 0])\n",
    "print((A == 1).nonzero().squeeze())\n"
   ]
  },
  {
   "cell_type": "code",
   "execution_count": 27,
   "metadata": {},
   "outputs": [
    {
     "name": "stdout",
     "output_type": "stream",
     "text": [
      "tensor([[-0.5722,  0.3781],\n",
      "        [ 0.0255, -0.0704],\n",
      "        [ 0.1823,  0.0949],\n",
      "        [-0.9852,  0.0650]])\n",
      "tensor([ 2.9543, -0.5630,  1.6056,  1.6421, -0.1631])\n"
     ]
    }
   ],
   "source": [
    "n_seed = 12345678\n",
    "gen = torch.Generator()\n",
    "gen = gen.manual_seed(n_seed)\n",
    "torch.manual_seed(n_seed)\n",
    "n_mbon = 2\n",
    "n_recur = 4\n",
    "sqrt2 = torch.sqrt(torch.tensor(2, dtype=torch.float))\n",
    "mean_mbon = torch.zeros((n_recur, n_mbon))\n",
    "W_mbon = torch.normal(mean_mbon, torch.sqrt(1 / (sqrt2 * n_mbon)),\n",
    "                              generator=None)\n",
    "print(W_mbon)\n",
    "print(torch.randn(5))\n"
   ]
  },
  {
   "cell_type": "code",
   "execution_count": 33,
   "metadata": {},
   "outputs": [
    {
     "name": "stdout",
     "output_type": "stream",
     "text": [
      "tensor([[-0.4541,  0.2105],\n",
      "        [-0.9273, -0.3542],\n",
      "        [-0.3912,  0.0674],\n",
      "        [-0.8747, -0.6640]])\n"
     ]
    }
   ],
   "source": [
    "W_mbon = torch.normal(mean_mbon, torch.sqrt(1 / (sqrt2 * n_mbon)),\n",
    "                              generator=None)\n",
    "print(W_mbon)\n"
   ]
  },
  {
   "cell_type": "code",
   "execution_count": 19,
   "metadata": {},
   "outputs": [
    {
     "name": "stdout",
     "output_type": "stream",
     "text": [
      "bad\n",
      "{'key1': 1, 'key2': 'bad', 'key3': [1, 2, 3]}\n",
      "key1\n",
      "key2\n",
      "key3\n"
     ]
    }
   ],
   "source": [
    "my_dict = {'key1': 1,\n",
    "          'key2': 'bad',\n",
    "          'key3': [1, 2, 3]}\n",
    "print(my_dict['key2'])\n",
    "print(my_dict)\n",
    "for key in my_dict:\n",
    "    print(key)\n"
   ]
  },
  {
   "cell_type": "code",
   "execution_count": 20,
   "metadata": {},
   "outputs": [
    {
     "name": "stdout",
     "output_type": "stream",
     "text": [
      "1\n",
      "3\n",
      "4\n"
     ]
    }
   ],
   "source": [
    "vals = [1, 3, 4]\n",
    "for i in range(6):\n",
    "    if i in vals:\n",
    "        print(i)\n"
   ]
  },
  {
   "cell_type": "code",
   "execution_count": 21,
   "metadata": {},
   "outputs": [
    {
     "name": "stdout",
     "output_type": "stream",
     "text": [
      "There are this many mbons 01\n",
      "There are this many mbons 13\n"
     ]
    }
   ],
   "source": [
    "mbons = [1, 13]\n",
    "for n in mbons:\n",
    "    print('There are this many mbons {}'.format(str(n).zfill(2)))\n",
    "    "
   ]
  }
 ],
 "metadata": {
  "kernelspec": {
   "display_name": "Python 3",
   "language": "python",
   "name": "python3"
  },
  "language_info": {
   "codemirror_mode": {
    "name": "ipython",
    "version": 3
   },
   "file_extension": ".py",
   "mimetype": "text/x-python",
   "name": "python",
   "nbconvert_exporter": "python",
   "pygments_lexer": "ipython3",
   "version": "3.8.2"
  }
 },
 "nbformat": 4,
 "nbformat_minor": 4
}
